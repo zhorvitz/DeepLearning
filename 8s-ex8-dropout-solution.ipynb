{
 "cells": [
  {
   "cell_type": "markdown",
   "id": "01cb66a4",
   "metadata": {
    "papermill": {
     "duration": 0.003441,
     "end_time": "2022-06-14T13:38:46.019893",
     "exception": false,
     "start_time": "2022-06-14T13:38:46.016452",
     "status": "completed"
    },
    "tags": []
   },
   "source": [
    "<h1> Dropout Excercise </h1>\n",
    "In the following exercise, you will have a chance to try out different dropout rates (p), and will be able to check which had the greatest effect on the model, in terms of performance."
   ]
  },
  {
   "cell_type": "code",
   "execution_count": 1,
   "id": "06dfd0bf",
   "metadata": {
    "execution": {
     "iopub.execute_input": "2022-06-14T13:38:46.027750Z",
     "iopub.status.busy": "2022-06-14T13:38:46.026861Z",
     "iopub.status.idle": "2022-06-14T13:38:52.041440Z",
     "shell.execute_reply": "2022-06-14T13:38:52.040009Z"
    },
    "papermill": {
     "duration": 6.022041,
     "end_time": "2022-06-14T13:38:52.044639",
     "exception": false,
     "start_time": "2022-06-14T13:38:46.022598",
     "status": "completed"
    },
    "tags": []
   },
   "outputs": [],
   "source": [
    "# Imports\n",
    "import tensorflow as tf\n",
    "from tensorflow import keras"
   ]
  },
  {
   "cell_type": "code",
   "execution_count": 2,
   "id": "719a8a18",
   "metadata": {
    "execution": {
     "iopub.execute_input": "2022-06-14T13:38:52.053715Z",
     "iopub.status.busy": "2022-06-14T13:38:52.052866Z",
     "iopub.status.idle": "2022-06-14T13:38:54.810615Z",
     "shell.execute_reply": "2022-06-14T13:38:54.809097Z"
    },
    "papermill": {
     "duration": 2.765816,
     "end_time": "2022-06-14T13:38:54.813775",
     "exception": false,
     "start_time": "2022-06-14T13:38:52.047959",
     "status": "completed"
    },
    "tags": []
   },
   "outputs": [
    {
     "name": "stdout",
     "output_type": "stream",
     "text": [
      "Downloading data from https://storage.googleapis.com/tensorflow/tf-keras-datasets/train-labels-idx1-ubyte.gz\n",
      "32768/29515 [=================================] - 0s 0us/step\n",
      "40960/29515 [=========================================] - 0s 0us/step\n",
      "Downloading data from https://storage.googleapis.com/tensorflow/tf-keras-datasets/train-images-idx3-ubyte.gz\n",
      "26427392/26421880 [==============================] - 0s 0us/step\n",
      "26435584/26421880 [==============================] - 0s 0us/step\n",
      "Downloading data from https://storage.googleapis.com/tensorflow/tf-keras-datasets/t10k-labels-idx1-ubyte.gz\n",
      "16384/5148 [===============================================================================================] - 0s 0us/step\n",
      "Downloading data from https://storage.googleapis.com/tensorflow/tf-keras-datasets/t10k-images-idx3-ubyte.gz\n",
      "4423680/4422102 [==============================] - 0s 0us/step\n",
      "4431872/4422102 [==============================] - 0s 0us/step\n"
     ]
    }
   ],
   "source": [
    "# Meet fashion MNIST - you will get familiar with this dataset soon...\n",
    "(train_images, train_labels),(test_images, test_labels) = keras.datasets.fashion_mnist.load_data()\n",
    "train_images = train_images /  255.0\n",
    "test_images = test_images / 255.0\n",
    "validation_images = train_images[:5000]\n",
    "validation_labels = train_labels[:5000]"
   ]
  },
  {
   "cell_type": "code",
   "execution_count": 3,
   "id": "c4978aa7",
   "metadata": {
    "execution": {
     "iopub.execute_input": "2022-06-14T13:38:54.825986Z",
     "iopub.status.busy": "2022-06-14T13:38:54.825121Z",
     "iopub.status.idle": "2022-06-14T13:38:54.838900Z",
     "shell.execute_reply": "2022-06-14T13:38:54.837615Z"
    },
    "papermill": {
     "duration": 0.022101,
     "end_time": "2022-06-14T13:38:54.841146",
     "exception": false,
     "start_time": "2022-06-14T13:38:54.819045",
     "status": "completed"
    },
    "tags": []
   },
   "outputs": [],
   "source": [
    "# Another cool way to define networks is using Classes\n",
    "# this makes the process pretty much automatic, and not dependent on some static values\n",
    "### TODO: See the dropout rate below (0.2). \n",
    "# 1.Make sure to inject it as a parameter, so when we instantiate a model,\n",
    "# we will be able to define its droput rate accordingly.\n",
    "# 2. write a for loop of 3 models (no need for more),\n",
    "# 2.1 each one of the models should be running on the same optimizers and compile as below\n",
    "# 2.2 each one of the models should be running on the same optimizers and compile as below\n",
    "# 3. Once the for loop ended, make sure to plot graphs of training performance + test performance.\n",
    "# For that, you can use one of the old ex. we had.\n",
    "# Dropout values can be randomly picked (ranging between 0 - 1)\n",
    "### In other words, what I'm asking is a Hyperparameter random search, so you can implement this with some\n",
    "# python library you know.\n",
    "class CustomModel(keras.Model):\n",
    "    def __init__(self, dropout_rate, **kwargs):\n",
    "        super().__init__(**kwargs)\n",
    "        self.input_layer = keras.layers.Flatten(input_shape=(28,28))\n",
    "        self.hidden1 = keras.layers.Dense(200, activation='relu')\n",
    "        self.hidden2 = keras.layers.Dense(100, activation='relu')\n",
    "        self.hidden3 = keras.layers.Dense(60, activation='relu')\n",
    "        self.output_layer = keras.layers.Dense(10, activation='softmax')\n",
    "        self.dropout_layer = keras.layers.Dropout(rate=dropout_rate)\n",
    "    \n",
    "    def call(self, input, training=None):\n",
    "        input_layer = self.input_layer(input)\n",
    "        input_layer = self.dropout_layer(input_layer)\n",
    "        hidden1 = self.hidden1(input_layer)\n",
    "        hidden1 = self.dropout_layer(hidden1, training=training)\n",
    "        hidden2 = self.hidden2(hidden1)\n",
    "        hidden2 = self.dropout_layer(hidden2, training=training)\n",
    "        hidden3 = self.hidden3(hidden2)\n",
    "        hidden3 = self.dropout_layer(hidden3, training=training)\n",
    "        output_layer = self.output_layer(hidden3)\n",
    "        return output_layer"
   ]
  },
  {
   "cell_type": "code",
   "execution_count": 4,
   "id": "1c0811e9",
   "metadata": {
    "execution": {
     "iopub.execute_input": "2022-06-14T13:38:54.855896Z",
     "iopub.status.busy": "2022-06-14T13:38:54.855056Z",
     "iopub.status.idle": "2022-06-14T13:40:55.506235Z",
     "shell.execute_reply": "2022-06-14T13:40:55.505143Z"
    },
    "papermill": {
     "duration": 120.659388,
     "end_time": "2022-06-14T13:40:55.508538",
     "exception": false,
     "start_time": "2022-06-14T13:38:54.849150",
     "status": "completed"
    },
    "tags": []
   },
   "outputs": [
    {
     "name": "stderr",
     "output_type": "stream",
     "text": [
      "2022-06-14 13:38:54.902566: I tensorflow/core/common_runtime/process_util.cc:146] Creating new thread pool with default inter op setting: 2. Tune using inter_op_parallelism_threads for best performance.\n",
      "/opt/conda/lib/python3.7/site-packages/keras/optimizer_v2/optimizer_v2.py:356: UserWarning: The `lr` argument is deprecated, use `learning_rate` instead.\n",
      "  \"The `lr` argument is deprecated, use `learning_rate` instead.\")\n",
      "2022-06-14 13:38:55.652003: I tensorflow/compiler/mlir/mlir_graph_optimization_pass.cc:185] None of the MLIR Optimization Passes are enabled (registered 2)\n"
     ]
    },
    {
     "name": "stdout",
     "output_type": "stream",
     "text": [
      "Epoch 1/5\n",
      "1875/1875 [==============================] - 8s 4ms/step - loss: 0.8969 - accuracy: 0.6837 - val_loss: 0.5297 - val_accuracy: 0.8154\n",
      "Epoch 2/5\n",
      "1875/1875 [==============================] - 7s 4ms/step - loss: 0.5800 - accuracy: 0.7930 - val_loss: 0.4510 - val_accuracy: 0.8384\n",
      "Epoch 3/5\n",
      "1875/1875 [==============================] - 7s 4ms/step - loss: 0.5161 - accuracy: 0.8164 - val_loss: 0.4075 - val_accuracy: 0.8588\n",
      "Epoch 4/5\n",
      "1875/1875 [==============================] - 7s 4ms/step - loss: 0.4816 - accuracy: 0.8278 - val_loss: 0.3881 - val_accuracy: 0.8622\n",
      "Epoch 5/5\n",
      "1875/1875 [==============================] - 7s 4ms/step - loss: 0.4528 - accuracy: 0.8375 - val_loss: 0.3723 - val_accuracy: 0.8658\n"
     ]
    },
    {
     "data": {
      "image/png": "[encoded data removed]",
      "text/plain": [
       "<Figure size 432x288 with 1 Axes>"
      ]
     },
     "metadata": {
      "needs_background": "light"
     },
     "output_type": "display_data"
    },
    {
     "name": "stdout",
     "output_type": "stream",
     "text": [
      "Epoch 1/5\n",
      "1875/1875 [==============================] - 8s 4ms/step - loss: 1.0644 - accuracy: 0.6114 - val_loss: 0.6078 - val_accuracy: 0.7796\n",
      "Epoch 2/5\n",
      "1875/1875 [==============================] - 8s 4ms/step - loss: 0.6904 - accuracy: 0.7514 - val_loss: 0.4883 - val_accuracy: 0.8284\n",
      "Epoch 3/5\n",
      "1875/1875 [==============================] - 7s 4ms/step - loss: 0.6057 - accuracy: 0.7841 - val_loss: 0.4528 - val_accuracy: 0.8358\n",
      "Epoch 4/5\n",
      "1875/1875 [==============================] - 8s 4ms/step - loss: 0.5553 - accuracy: 0.7998 - val_loss: 0.4211 - val_accuracy: 0.8464\n",
      "Epoch 5/5\n",
      "1875/1875 [==============================] - 8s 4ms/step - loss: 0.5309 - accuracy: 0.8103 - val_loss: 0.4027 - val_accuracy: 0.8530\n"
     ]
    },
    {
     "data": {
      "image/png": "[encoded data removed]",
      "text/plain": [
       "<Figure size 432x288 with 1 Axes>"
      ]
     },
     "metadata": {
      "needs_background": "light"
     },
     "output_type": "display_data"
    },
    {
     "name": "stdout",
     "output_type": "stream",
     "text": [
      "Epoch 1/5\n",
      "1875/1875 [==============================] - 9s 4ms/step - loss: 1.2405 - accuracy: 0.5273 - val_loss: 0.6906 - val_accuracy: 0.7388\n",
      "Epoch 2/5\n",
      "1875/1875 [==============================] - 8s 4ms/step - loss: 0.8248 - accuracy: 0.6929 - val_loss: 0.5855 - val_accuracy: 0.7758\n",
      "Epoch 3/5\n",
      "1875/1875 [==============================] - 7s 4ms/step - loss: 0.7201 - accuracy: 0.7326 - val_loss: 0.5242 - val_accuracy: 0.8032\n",
      "Epoch 4/5\n",
      "1875/1875 [==============================] - 7s 4ms/step - loss: 0.6722 - accuracy: 0.7545 - val_loss: 0.4950 - val_accuracy: 0.8192\n",
      "Epoch 5/5\n",
      "1875/1875 [==============================] - 7s 4ms/step - loss: 0.6326 - accuracy: 0.7719 - val_loss: 0.4596 - val_accuracy: 0.8410\n"
     ]
    },
    {
     "data": {
      "image/png": "[encoded data removed]",
      "text/plain": [
       "<Figure size 432x288 with 1 Axes>"
      ]
     },
     "metadata": {
      "needs_background": "light"
     },
     "output_type": "display_data"
    }
   ],
   "source": [
    "import matplotlib.pyplot as plt\n",
    "\n",
    "# Note: epochs changed to 5 to make solution works faster, should work the same with 60\n",
    "for dropout_value in [0.1, 0.2, 0.3]: # For example\n",
    "    model = CustomModel(dropout_rate = dropout_value)\n",
    "    sgd = keras.optimizers.SGD(lr=0.01)\n",
    "    model.compile(loss=\"sparse_categorical_crossentropy\", optimizer=sgd, metrics=[\"accuracy\"])\n",
    "    \n",
    "    history = model.fit(train_images, train_labels, epochs=5, validation_data=(validation_images, validation_labels))\n",
    "\n",
    "    # plot\n",
    "    plt.plot(history.history['loss'])\n",
    "    plt.plot(history.history['val_loss'])\n",
    "    plt.title('model loss')\n",
    "    plt.ylabel('loss')\n",
    "    plt.xlabel('epoch')\n",
    "    plt.legend(['train', 'val'], loc='upper left')\n",
    "    plt.show()"
   ]
  },
  {
   "cell_type": "code",
   "execution_count": 5,
   "id": "f4f0221f",
   "metadata": {
    "execution": {
     "iopub.execute_input": "2022-06-14T13:40:55.814124Z",
     "iopub.status.busy": "2022-06-14T13:40:55.813723Z",
     "iopub.status.idle": "2022-06-14T13:40:56.652586Z",
     "shell.execute_reply": "2022-06-14T13:40:56.651372Z"
    },
    "papermill": {
     "duration": 0.995869,
     "end_time": "2022-06-14T13:40:56.654985",
     "exception": false,
     "start_time": "2022-06-14T13:40:55.659116",
     "status": "completed"
    },
    "tags": []
   },
   "outputs": [
    {
     "name": "stdout",
     "output_type": "stream",
     "text": [
      "313/313 [==============================] - 1s 2ms/step - loss: 0.5037 - accuracy: 0.8179\n"
     ]
    },
    {
     "data": {
      "text/plain": [
       "[0.5036964416503906, 0.8179000020027161]"
      ]
     },
     "execution_count": 5,
     "metadata": {},
     "output_type": "execute_result"
    }
   ],
   "source": [
    "# evaluate - as we discussed in class\n",
    "model.evaluate(test_images, test_labels)"
   ]
  },
  {
   "cell_type": "code",
   "execution_count": null,
   "id": "5f08f381",
   "metadata": {
    "papermill": {
     "duration": 0.153511,
     "end_time": "2022-06-14T13:40:56.962067",
     "exception": false,
     "start_time": "2022-06-14T13:40:56.808556",
     "status": "completed"
    },
    "tags": []
   },
   "outputs": [],
   "source": []
  }
 ],
 "metadata": {
  "kernelspec": {
   "display_name": "Python 3",
   "language": "python",
   "name": "python3"
  },
  "language_info": {
   "codemirror_mode": {
    "name": "ipython",
    "version": 3
   },
   "file_extension": ".py",
   "mimetype": "text/x-python",
   "name": "python",
   "nbconvert_exporter": "python",
   "pygments_lexer": "ipython3",
   "version": "3.7.12"
  },
  "papermill": {
   "default_parameters": {},
   "duration": 144.875248,
   "end_time": "2022-06-14T13:41:00.453227",
   "environment_variables": {},
   "exception": null,
   "input_path": "__notebook__.ipynb",
   "output_path": "__notebook__.ipynb",
   "parameters": {},
   "start_time": "2022-06-14T13:38:35.577979",
   "version": "2.3.4"
  }
 },
 "nbformat": 4,
 "nbformat_minor": 5
}
